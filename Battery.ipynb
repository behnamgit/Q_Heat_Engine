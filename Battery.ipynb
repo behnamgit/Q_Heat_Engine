{
 "cells": [
  {
   "cell_type": "code",
   "execution_count": 1,
   "metadata": {
    "collapsed": true
   },
   "outputs": [],
   "source": [
    "import numpy as np\n",
    "from qutip import *\n",
    "import matplotlib.pyplot as plt\n",
    "%matplotlib inline"
   ]
  },
  {
   "cell_type": "code",
   "execution_count": 133,
   "metadata": {
    "collapsed": false
   },
   "outputs": [],
   "source": [
    "#Battery\n",
    "Engine_Dim = 20\n",
    "Battery_Dim = 10\n",
    "\n",
    "# Hilbert space is oscillator x battery_l x battery_k\n",
    "a = tensor(destroy(Engine_Dim),  identity(Battery_Dim),          identity(Battery_Dim)          )\n",
    "L = tensor(identity(Engine_Dim), Qobj(np.eye(Battery_Dim,k=+1)), identity(Battery_Dim)          )\n",
    "K = tensor(identity(Engine_Dim), identity(Battery_Dim),          Qobj(np.eye(Battery_Dim,k=+1)) )\n",
    "\n",
    "N = a.dag()*a\n",
    "NL = tensor(identity(Engine_Dim), num(Battery_Dim),      identity(Battery_Dim) )\n",
    "NK = tensor(identity(Engine_Dim), identity(Battery_Dim), num(Battery_Dim)      )"
   ]
  },
  {
   "cell_type": "code",
   "execution_count": 134,
   "metadata": {
    "collapsed": true
   },
   "outputs": [],
   "source": [
    "#Engine + Battery\n",
    "\n",
    "#Engine Operators\n",
    "#A = tensor(a,qeye(Battery_Dim**2))\n",
    "#C = tensor(c,qeye(Battery_Dim**2))\n",
    "\n",
    "#Battery Operators\n",
    "#LU = tensor(qeye(2)qeye(2*Engine_Dim),Lup)\n",
    "#LD = tensor(qeye(2*Engine_Dim),Ldown)\n",
    "#KU = tensor(qeye(2*Engine_Dim),Kup)\n",
    "#KD = tensor(qeye(2*Engine_Dim),Kdown)\n",
    "#NL = tensor(qeye(2*Engine_Dim),NumL)\n",
    "#NK = tensor(qeye(2*Engine_Dim),NumK)"
   ]
  },
  {
   "cell_type": "code",
   "execution_count": 135,
   "metadata": {
    "collapsed": false
   },
   "outputs": [],
   "source": [
    "#Hamiltonian of Engine\n",
    "omega = 1.0\n",
    "H_e = omega*a.dag()*a\n",
    "\n",
    "#Hamiltonian of battery\n",
    "omega_m = 1.0\n",
    "H_b = omega_m*(NL+NK)\n",
    "\n",
    "#Interaction Hamiltonian\n",
    "Coupling = 2.0\n",
    "H_I = L.dag()*a + a.dag()*L\n",
    "\n",
    "# Total Hamiltonian\n",
    "H = H_e + H_b + H_I"
   ]
  },
  {
   "cell_type": "code",
   "execution_count": 138,
   "metadata": {
    "collapsed": false
   },
   "outputs": [
    {
     "data": {
      "text/plain": [
       "<matplotlib.colorbar.Colorbar at 0x10d8fb5f8>"
      ]
     },
     "execution_count": 138,
     "metadata": {},
     "output_type": "execute_result"
    },
    {
     "data": {
      "image/png": "[encoded data removed]",
      "text/plain": [
       "<matplotlib.figure.Figure at 0x10e759748>"
      ]
     },
     "metadata": {},
     "output_type": "display_data"
    }
   ],
   "source": [
    "plt.figure(1,figsize=[10,10])\n",
    "plt.matshow(np.real(H.data.toarray()),fignum=1, cmap=plt.cm.gray_r)\n",
    "plt.colorbar()\n",
    "#np.real(H.data.toarray())"
   ]
  },
  {
   "cell_type": "code",
   "execution_count": 43,
   "metadata": {
    "collapsed": false
   },
   "outputs": [],
   "source": [
    "def battery(j,k,Dim=1000):\n",
    "    l=j-k\n",
    "    state = tensor( basis(Dim,l), basis(Dim,k) )\n",
    "    return state\n",
    "\n",
    "def ket_battery(state):\n",
    "    l = expect(NumL,state)\n",
    "    k = expect(NumK,state)\n",
    "    return l+k,k"
   ]
  },
  {
   "cell_type": "code",
   "execution_count": 44,
   "metadata": {
    "collapsed": false
   },
   "outputs": [
    {
     "data": {
      "text/plain": [
       "(1.0, 1.0)"
      ]
     },
     "execution_count": 44,
     "metadata": {},
     "output_type": "execute_result"
    }
   ],
   "source": [
    "mystate = battery(1,1,Dim=5)\n",
    "ket_battery(mystate)"
   ]
  },
  {
   "cell_type": "code",
   "execution_count": 50,
   "metadata": {
    "collapsed": false
   },
   "outputs": [
    {
     "data": {
      "text/plain": [
       "(0.0, 0.0)"
      ]
     },
     "execution_count": 50,
     "metadata": {},
     "output_type": "execute_result"
    }
   ],
   "source": [
    "ket_battery(Ldown*Kup*Kup*Kup*mystate)"
   ]
  },
  {
   "cell_type": "code",
   "execution_count": 53,
   "metadata": {
    "collapsed": false
   },
   "outputs": [],
   "source": [
    "omega_m = 1\n",
    "H = omega_m*(NumL+NumK)"
   ]
  },
  {
   "cell_type": "code",
   "execution_count": 57,
   "metadata": {
    "collapsed": false
   },
   "outputs": [
    {
     "data": {
      "text/plain": [
       "4.0"
      ]
     },
     "execution_count": 57,
     "metadata": {},
     "output_type": "execute_result"
    }
   ],
   "source": [
    "expect(H,battery(4,3))"
   ]
  },
  {
   "cell_type": "code",
   "execution_count": 10,
   "metadata": {
    "collapsed": false
   },
   "outputs": [
    {
     "data": {
      "text/plain": [
       "(2.0, 1.0)"
      ]
     },
     "execution_count": 10,
     "metadata": {},
     "output_type": "execute_result"
    }
   ],
   "source": [
    "state2 = Lup*newstate\n",
    "ket_battery(state2)"
   ]
  },
  {
   "cell_type": "code",
   "execution_count": 11,
   "metadata": {
    "collapsed": false
   },
   "outputs": [
    {
     "data": {
      "text/latex": [
       "Quantum object: dims = [[1], [1]], shape = (1, 1), type = bra\\begin{equation*}\\left(\\begin{array}{*{11}c}1.0\\\\\\end{array}\\right)\\end{equation*}"
      ],
      "text/plain": [
       "Quantum object: dims = [[1], [1]], shape = (1, 1), type = bra\n",
       "Qobj data =\n",
       "[[ 1.]]"
      ]
     },
     "execution_count": 11,
     "metadata": {},
     "output_type": "execute_result"
    }
   ],
   "source": [
    "state2.dag()*Lup*Ldown*state2"
   ]
  },
  {
   "cell_type": "code",
   "execution_count": 73,
   "metadata": {
    "collapsed": false
   },
   "outputs": [
    {
     "data": {
      "text/plain": [
       "0.0"
      ]
     },
     "execution_count": 73,
     "metadata": {},
     "output_type": "execute_result"
    }
   ],
   "source": [
    "l.data.toarray()[0][0].real"
   ]
  },
  {
   "cell_type": "code",
   "execution_count": 129,
   "metadata": {
    "collapsed": false
   },
   "outputs": [
    {
     "name": "stdout",
     "output_type": "stream",
     "text": [
      "3.5.2 |Anaconda 4.3.0 (x86_64)| (default, Jul  2 2016, 17:52:12) \n",
      "[GCC 4.2.1 Compatible Apple LLVM 4.2 (clang-425.0.28)]\n"
     ]
    }
   ],
   "source": [
    "import sys\n",
    "print(sys.version)"
   ]
  },
  {
   "cell_type": "code",
   "execution_count": null,
   "metadata": {
    "collapsed": true
   },
   "outputs": [],
   "source": []
  }
 ],
 "metadata": {
  "kernelspec": {
   "display_name": "Python [default]",
   "language": "python",
   "name": "python3"
  },
  "language_info": {
   "codemirror_mode": {
    "name": "ipython",
    "version": 3
   },
   "file_extension": ".py",
   "mimetype": "text/x-python",
   "name": "python",
   "nbconvert_exporter": "python",
   "pygments_lexer": "ipython3",
   "version": "3.5.2"
  }
 },
 "nbformat": 4,
 "nbformat_minor": 2
}
